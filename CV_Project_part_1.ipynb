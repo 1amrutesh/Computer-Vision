{
 "cells": [
  {
   "cell_type": "markdown",
   "id": "10161e79",
   "metadata": {},
   "source": [
    "# Project: Drowsiness Detection\n",
    "# Mentor: Dr. Sharnil Pandya\n",
    "# Group Members: Aasheer Peerbhai, Amrutesh Saraf, Shreya Mankar"
   ]
  },
  {
   "cell_type": "markdown",
   "id": "f7813a82",
   "metadata": {},
   "source": [
    "Split the data folder containing train and test with 9:1 ratio."
   ]
  },
  {
   "cell_type": "code",
   "execution_count": 2,
   "id": "61114f73",
   "metadata": {
    "ExecuteTime": {
     "end_time": "2022-06-01T12:37:10.552965Z",
     "start_time": "2022-06-01T12:33:37.631703Z"
    }
   },
   "outputs": [
    {
     "name": "stderr",
     "output_type": "stream",
     "text": [
      "Copying files: 84898 files [03:32, 398.83 files/s]\n"
     ]
    }
   ],
   "source": [
    "import splitfolders\n",
    "\n",
    "splitfolders.ratio('/Users/amrutesh/Downloads/MRL-Eyes/mrlEyes_2018_01',\n",
    "                   output=\"output\",\n",
    "                   seed=1337,\n",
    "                   ratio=(.9, 0.1))"
   ]
  },
  {
   "cell_type": "code",
   "execution_count": null,
   "id": "587d923d",
   "metadata": {},
   "outputs": [],
   "source": []
  }
 ],
 "metadata": {
  "kernelspec": {
   "display_name": "Python [conda env:root] *",
   "language": "python",
   "name": "conda-root-py"
  },
  "language_info": {
   "codemirror_mode": {
    "name": "ipython",
    "version": 3
   },
   "file_extension": ".py",
   "mimetype": "text/x-python",
   "name": "python",
   "nbconvert_exporter": "python",
   "pygments_lexer": "ipython3",
   "version": "3.8.13"
  },
  "latex_envs": {
   "LaTeX_envs_menu_present": true,
   "autoclose": false,
   "autocomplete": true,
   "bibliofile": "biblio.bib",
   "cite_by": "apalike",
   "current_citInitial": 1,
   "eqLabelWithNumbers": true,
   "eqNumInitial": 1,
   "hotkeys": {
    "equation": "Ctrl-E",
    "itemize": "Ctrl-I"
   },
   "labels_anchors": false,
   "latex_user_defs": false,
   "report_style_numbering": false,
   "user_envs_cfg": false
  },
  "toc": {
   "base_numbering": 1,
   "nav_menu": {},
   "number_sections": true,
   "sideBar": true,
   "skip_h1_title": false,
   "title_cell": "Table of Contents",
   "title_sidebar": "Contents",
   "toc_cell": false,
   "toc_position": {},
   "toc_section_display": true,
   "toc_window_display": false
  },
  "varInspector": {
   "cols": {
    "lenName": 16,
    "lenType": 16,
    "lenVar": 40
   },
   "kernels_config": {
    "python": {
     "delete_cmd_postfix": "",
     "delete_cmd_prefix": "del ",
     "library": "var_list.py",
     "varRefreshCmd": "print(var_dic_list())"
    },
    "r": {
     "delete_cmd_postfix": ") ",
     "delete_cmd_prefix": "rm(",
     "library": "var_list.r",
     "varRefreshCmd": "cat(var_dic_list()) "
    }
   },
   "types_to_exclude": [
    "module",
    "function",
    "builtin_function_or_method",
    "instance",
    "_Feature"
   ],
   "window_display": false
  }
 },
 "nbformat": 4,
 "nbformat_minor": 5
}
