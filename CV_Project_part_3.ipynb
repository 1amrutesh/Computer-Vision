{
 "cells": [
  {
   "cell_type": "code",
   "execution_count": 1,
   "id": "1a71c5ad",
   "metadata": {
    "ExecuteTime": {
     "end_time": "2022-06-03T03:46:08.524610Z",
     "start_time": "2022-06-03T03:45:50.041760Z"
    }
   },
   "outputs": [
    {
     "name": "stdout",
     "output_type": "stream",
     "text": [
      "pygame 2.1.2 (SDL 2.0.18, Python 3.8.13)\n",
      "Hello from the pygame community. https://www.pygame.org/contribute.html\n"
     ]
    }
   ],
   "source": [
    "import cv2\n",
    "import tensorflow as tf\n",
    "from tensorflow.keras.models import load_model\n",
    "import numpy as np\n",
    "from pygame import mixer"
   ]
  },
  {
   "cell_type": "markdown",
   "id": "fbdac295",
   "metadata": {},
   "source": [
    "I used haar cascade to detect the face and eyes."
   ]
  },
  {
   "cell_type": "code",
   "execution_count": 2,
   "id": "b8bafc12",
   "metadata": {
    "ExecuteTime": {
     "end_time": "2022-06-03T03:46:08.609186Z",
     "start_time": "2022-06-03T03:46:08.534970Z"
    }
   },
   "outputs": [],
   "source": [
    "face_cascade = cv2.CascadeClassifier(cv2.data.haarcascades +\n",
    "                                     'haarcascade_frontalface_default.xml')\n",
    "eye_cascade = cv2.CascadeClassifier(cv2.data.haarcascades +\n",
    "                                    'haarcascade_eye.xml')"
   ]
  },
  {
   "cell_type": "code",
   "execution_count": null,
   "id": "12b98f7b",
   "metadata": {
    "ExecuteTime": {
     "end_time": "2022-06-01T04:34:24.774294Z",
     "start_time": "2022-06-01T04:34:24.769694Z"
    }
   },
   "outputs": [],
   "source": []
  },
  {
   "cell_type": "markdown",
   "id": "76630e8a",
   "metadata": {},
   "source": [
    "I used the model weights  from the second part of the project."
   ]
  },
  {
   "cell_type": "code",
   "execution_count": 3,
   "id": "4dae13b3",
   "metadata": {
    "ExecuteTime": {
     "end_time": "2022-06-03T03:46:12.087055Z",
     "start_time": "2022-06-03T03:46:08.612367Z"
    }
   },
   "outputs": [
    {
     "name": "stderr",
     "output_type": "stream",
     "text": [
      "2022-06-03 09:16:09.054334: I tensorflow/core/platform/cpu_feature_guard.cc:142] This TensorFlow binary is optimized with oneAPI Deep Neural Network Library (oneDNN) to use the following CPU instructions in performance-critical operations:  AVX2 FMA\n",
      "To enable them in other operations, rebuild TensorFlow with the appropriate compiler flags.\n"
     ]
    }
   ],
   "source": [
    "model = load_model(r'/Users/amrutesh/Downloads/MRL-Eyes/CVmodel2.h5')"
   ]
  },
  {
   "cell_type": "code",
   "execution_count": null,
   "id": "0a9982a1",
   "metadata": {},
   "outputs": [],
   "source": []
  },
  {
   "cell_type": "code",
   "execution_count": 4,
   "id": "7c80896d",
   "metadata": {
    "ExecuteTime": {
     "end_time": "2022-06-03T03:46:12.321338Z",
     "start_time": "2022-06-03T03:46:12.089775Z"
    }
   },
   "outputs": [],
   "source": [
    "mixer.init()"
   ]
  },
  {
   "cell_type": "markdown",
   "id": "9b8e34df",
   "metadata": {},
   "source": [
    "I loaded an audio file in mixer library. This alarm will be raised if a person is drowsy."
   ]
  },
  {
   "cell_type": "code",
   "execution_count": 5,
   "id": "b51872cb",
   "metadata": {
    "ExecuteTime": {
     "end_time": "2022-06-03T03:46:12.336294Z",
     "start_time": "2022-06-03T03:46:12.324113Z"
    }
   },
   "outputs": [],
   "source": [
    "sound = mixer.Sound(r'/Users/amrutesh/Downloads/MRL-Eyes/alarm.wav')"
   ]
  },
  {
   "cell_type": "code",
   "execution_count": 6,
   "id": "1df8b0f6",
   "metadata": {
    "ExecuteTime": {
     "end_time": "2022-06-03T03:49:09.797608Z",
     "start_time": "2022-06-03T03:46:12.339936Z"
    }
   },
   "outputs": [
    {
     "name": "stderr",
     "output_type": "stream",
     "text": [
      "2022-06-03 09:16:14.819000: I tensorflow/compiler/mlir/mlir_graph_optimization_pass.cc:185] None of the MLIR Optimization Passes are enabled (registered 2)\n"
     ]
    }
   ],
   "source": [
    "cap = cv2.VideoCapture(0)\n",
    "Score = 0\n",
    "while True:\n",
    "    ret, frame = cap.read()\n",
    "    height, width = frame.shape[0:2]\n",
    "    gray = cv2.cvtColor(frame, cv2.COLOR_BGR2GRAY)\n",
    "    faces = face_cascade.detectMultiScale(gray,\n",
    "                                          scaleFactor=1.2,\n",
    "                                          minNeighbors=3)\n",
    "    eyes = eye_cascade.detectMultiScale(gray, scaleFactor=1.2, minNeighbors=1)\n",
    "\n",
    "    cv2.rectangle(frame, (0, height - 50), (200, height), (0, 0, 0),\n",
    "                  thickness=cv2.FILLED)\n",
    "\n",
    "    for (x, y, w, h) in faces:\n",
    "        cv2.rectangle(frame,\n",
    "                      pt1=(x, y),\n",
    "                      pt2=(x + w, y + h),\n",
    "                      color=(255, 0, 0),\n",
    "                      thickness=3)\n",
    "\n",
    "    for (ex, ey, ew, eh) in eyes:\n",
    "        cv2.rectangle(frame,\n",
    "                      pt1=(ex, ey),\n",
    "                      pt2=(ex + ew, ey + eh),\n",
    "                      color=(0, 76, 0),\n",
    "                      thickness=3)\n",
    "\n",
    "        # preprocessing steps\n",
    "        eye = frame[ey:ey + eh, ex:ex + ew]\n",
    "        eye = cv2.resize(eye, (80, 80))\n",
    "        eye = eye / 255\n",
    "        eye = eye.reshape(80, 80, 3)\n",
    "        eye = np.expand_dims(eye, axis=0)\n",
    "        # preprocessing is done now model prediction\n",
    "        prediction = model.predict(eye)\n",
    "\n",
    "        # if eyes are closed\n",
    "        if prediction[0][0] > 0.90:\n",
    "            cv2.putText(frame,\n",
    "                        'closed', (10, height - 20),\n",
    "                        fontFace=cv2.FONT_HERSHEY_COMPLEX_SMALL,\n",
    "                        fontScale=1,\n",
    "                        color=(255, 255, 255),\n",
    "                        thickness=2,\n",
    "                        lineType=cv2.LINE_AA)\n",
    "            cv2.putText(frame,\n",
    "                        'Score' + str(Score), (100, height - 20),\n",
    "                        fontFace=cv2.FONT_HERSHEY_COMPLEX_SMALL,\n",
    "                        fontScale=1,\n",
    "                        color=(255, 255, 255),\n",
    "                        thickness=2,\n",
    "                        lineType=cv2.LINE_AA)\n",
    "            Score = Score + 1\n",
    "            if (Score > 15):\n",
    "                try:\n",
    "                    sound.play()\n",
    "                except:\n",
    "                    pass\n",
    "\n",
    "        # if eyes are open\n",
    "        elif prediction[0][1] > 0.90:\n",
    "            cv2.putText(frame,\n",
    "                        'open', (10, height - 20),\n",
    "                        fontFace=cv2.FONT_HERSHEY_COMPLEX_SMALL,\n",
    "                        fontScale=1,\n",
    "                        color=(255, 255, 255),\n",
    "                        thickness=1,\n",
    "                        lineType=cv2.LINE_AA)\n",
    "            cv2.putText(frame,\n",
    "                        'Score' + str(Score), (100, height - 20),\n",
    "                        fontFace=cv2.FONT_HERSHEY_COMPLEX_SMALL,\n",
    "                        fontScale=1,\n",
    "                        color=(255, 255, 255),\n",
    "                        thickness=1,\n",
    "                        lineType=cv2.LINE_AA)\n",
    "            Score = Score - 1\n",
    "            if (Score < 0):\n",
    "                Score = 0\n",
    "\n",
    "    cv2.imshow('frame', frame)\n",
    "    if cv2.waitKey(10) & 0xFF == ord('q'):\n",
    "        break\n",
    "\n",
    "cap.release()\n",
    "cv2.destroyAllWindows()"
   ]
  },
  {
   "cell_type": "code",
   "execution_count": null,
   "id": "f7338656",
   "metadata": {},
   "outputs": [],
   "source": []
  }
 ],
 "metadata": {
  "kernelspec": {
   "display_name": "Python [conda env:root] *",
   "language": "python",
   "name": "conda-root-py"
  },
  "language_info": {
   "codemirror_mode": {
    "name": "ipython",
    "version": 3
   },
   "file_extension": ".py",
   "mimetype": "text/x-python",
   "name": "python",
   "nbconvert_exporter": "python",
   "pygments_lexer": "ipython3",
   "version": "3.8.13"
  },
  "latex_envs": {
   "LaTeX_envs_menu_present": true,
   "autoclose": false,
   "autocomplete": true,
   "bibliofile": "biblio.bib",
   "cite_by": "apalike",
   "current_citInitial": 1,
   "eqLabelWithNumbers": true,
   "eqNumInitial": 1,
   "hotkeys": {
    "equation": "Ctrl-E",
    "itemize": "Ctrl-I"
   },
   "labels_anchors": false,
   "latex_user_defs": false,
   "report_style_numbering": false,
   "user_envs_cfg": false
  },
  "toc": {
   "base_numbering": 1,
   "nav_menu": {},
   "number_sections": true,
   "sideBar": true,
   "skip_h1_title": false,
   "title_cell": "Table of Contents",
   "title_sidebar": "Contents",
   "toc_cell": false,
   "toc_position": {},
   "toc_section_display": true,
   "toc_window_display": false
  },
  "varInspector": {
   "cols": {
    "lenName": 16,
    "lenType": 16,
    "lenVar": 40
   },
   "kernels_config": {
    "python": {
     "delete_cmd_postfix": "",
     "delete_cmd_prefix": "del ",
     "library": "var_list.py",
     "varRefreshCmd": "print(var_dic_list())"
    },
    "r": {
     "delete_cmd_postfix": ") ",
     "delete_cmd_prefix": "rm(",
     "library": "var_list.r",
     "varRefreshCmd": "cat(var_dic_list()) "
    }
   },
   "types_to_exclude": [
    "module",
    "function",
    "builtin_function_or_method",
    "instance",
    "_Feature"
   ],
   "window_display": false
  }
 },
 "nbformat": 4,
 "nbformat_minor": 5
}
